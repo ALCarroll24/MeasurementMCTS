{
 "cells": [
  {
   "cell_type": "markdown",
   "metadata": {},
   "source": [
    "# MCTS Profiling"
   ]
  },
  {
   "cell_type": "code",
   "execution_count": 1,
   "metadata": {},
   "outputs": [],
   "source": [
    "import cProfile\n",
    "import sys\n",
    "# MCTS code imports\n",
    "sys.path.append(\"..\")  # Adds higher directory to python modules path.\n",
    "from state_evaluation.reinforcement_learning import MCTSRLWrapper\n",
    "from main import MeasurementControlEnvironment\n",
    "from mcts.mcts import mcts_search"
   ]
  },
  {
   "cell_type": "markdown",
   "metadata": {},
   "source": [
    "### Choose the Filename and Create Environment"
   ]
  },
  {
   "cell_type": "code",
   "execution_count": 2,
   "metadata": {},
   "outputs": [
    {
     "name": "stdout",
     "output_type": "stream",
     "text": [
      "Toy Measurement Control Initialized\n",
      "Using device: cuda\n",
      "Model loaded\n"
     ]
    }
   ],
   "source": [
    "filename = \"speedup_post_occlusion_explore_grid.prof\"\n",
    "env = MeasurementControlEnvironment()\n",
    "rl = MCTSRLWrapper(env, 'new', env.N, width_pixels=30, width_meters=50)\n",
    "state = env.get_state()"
   ]
  },
  {
   "cell_type": "markdown",
   "metadata": {},
   "source": [
    "### Run the MCTS code and get profiler output"
   ]
  },
  {
   "cell_type": "code",
   "execution_count": 3,
   "metadata": {},
   "outputs": [],
   "source": [
    "# !python3 -m cProfile -o $filename ../main.py --one_iteration=True\n",
    "profiler = cProfile.Profile()\n",
    "profiler.enable()\n",
    "learning_iterations = 100\n",
    "best_action_idx, root = mcts_search(env, rl, state, learning_iterations=learning_iterations,\n",
    "                                    explore_factor=0.3, discount_factor=1.0)\n",
    "profiler.disable()\n",
    "profiler.dump_stats(filename)"
   ]
  },
  {
   "cell_type": "markdown",
   "metadata": {},
   "source": [
    "### Open Snakeviz in browser to view profile"
   ]
  },
  {
   "cell_type": "code",
   "execution_count": 4,
   "metadata": {},
   "outputs": [
    {
     "name": "stdout",
     "output_type": "stream",
     "text": [
      "snakeviz web server started on 127.0.0.1:8080; enter Ctrl-C to exit\n",
      "http://127.0.0.1:8080/snakeviz/%2Fhome%2Faustin%2FMeasurementMCTS%2Fprofiling%2Fspeedup_post_occlusion_explore_grid.prof\n",
      "^C\n",
      "\n",
      "Bye!\n"
     ]
    }
   ],
   "source": [
    "!snakeviz $filename"
   ]
  }
 ],
 "metadata": {
  "kernelspec": {
   "display_name": "Python 3",
   "language": "python",
   "name": "python3"
  },
  "language_info": {
   "codemirror_mode": {
    "name": "ipython",
    "version": 3
   },
   "file_extension": ".py",
   "mimetype": "text/x-python",
   "name": "python",
   "nbconvert_exporter": "python",
   "pygments_lexer": "ipython3",
   "version": "3.10.12"
  }
 },
 "nbformat": 4,
 "nbformat_minor": 2
}
