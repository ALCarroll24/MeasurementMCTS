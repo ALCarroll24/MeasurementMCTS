{
 "cells": [
  {
   "cell_type": "markdown",
   "metadata": {},
   "source": [
    "# Old notebook not setup for new configuration"
   ]
  },
  {
   "cell_type": "code",
   "execution_count": 2,
   "metadata": {},
   "outputs": [],
   "source": [
    "import numpy as np\n",
    "import matplotlib.pyplot as plt\n",
    "import time\n",
    "import sys\n",
    "from multiprocessing import Pool\n",
    "from scipy.optimize import minimize\n",
    "sys.path.append(\"..\")  # Adds higher directory to python modules path.\n",
    "\n",
    "from main import MeasurementControlEnvironment\n",
    "from mcts.mcts import MCTS\n",
    "from mcts.hash import hash_action, hash_state"
   ]
  },
  {
   "cell_type": "code",
   "execution_count": 3,
   "metadata": {},
   "outputs": [
    {
     "name": "stdout",
     "output_type": "stream",
     "text": [
      "Running one iteration for profiling\n"
     ]
    }
   ],
   "source": [
    "# Create a TMC object\n",
    "tmc = MeasurementControlEnvironment(one_iteration=True)"
   ]
  },
  {
   "cell_type": "code",
   "execution_count": 4,
   "metadata": {},
   "outputs": [
    {
     "data": {
      "text/plain": [
       "<matplotlib.legend.Legend at 0x1417f4fb5c0>"
      ]
     },
     "execution_count": 4,
     "metadata": {},
     "output_type": "execute_result"
    },
    {
     "data": {
      "image/png": "[encoded data removed]",
      "text/plain": [
       "<Figure size 640x480 with 1 Axes>"
      ]
     },
     "metadata": {},
     "output_type": "display_data"
    }
   ],
   "source": [
    "# Now lets plot the OOI and starting vehicle locations\n",
    "ooi_corners = tmc.ooi.get_corners()\n",
    "ooi_corners = np.concatenate([ooi_corners, ooi_corners[0].reshape((1,2))], axis=0).T  # Close the polygon\n",
    "\n",
    "# Create plot set limits and labels\n",
    "fig, ax = plt.subplots()\n",
    "ax.set_xlim(0, 100)\n",
    "ax.set_ylim(0, 100)\n",
    "ax.set_xlabel('X')\n",
    "ax.set_ylabel('Y')\n",
    "ax.set_aspect('equal', 'box')\n",
    "\n",
    "# Plot the OOI\n",
    "plt.plot(ooi_corners[0], ooi_corners[1], 'r-', label='OOI')\n",
    "\n",
    "# Creat a circle for the vehicle spawnpoints\n",
    "center = np.array(tmc.ooi.position)\n",
    "radius = 30\n",
    "num_points = 5\n",
    "angle_increment = 2*np.pi/num_points\n",
    "circle_points = np.zeros((2, num_points)) \n",
    "\n",
    "def rotate(vec, angle, center):\n",
    "    R = np.array([[np.cos(angle), -np.sin(angle)], [np.sin(angle), np.cos(angle)]])\n",
    "    return R @ (vec - center) + center\n",
    "\n",
    "vec = center + np.array([radius, 0])\n",
    "for i in range(num_points):\n",
    "    circle_points[:,i] = rotate(vec, angle_increment*i, center)\n",
    "\n",
    "# Plot the circle points\n",
    "plt.plot(circle_points[0], circle_points[1], 'bo', label='Vehicle spawn points')\n",
    "\n",
    "# Create four directions for each point, towards, away, left and right\n",
    "car_starting_states = np.zeros((4*num_points, 3))\n",
    "\n",
    "# Fill in the starting states\n",
    "for i in range(num_points):\n",
    "    # First for the four directions of the car at one point, fill in the x and y\n",
    "    car_starting_states[4*i:4*i+4, 0:2] = circle_points[:,i]\n",
    "    \n",
    "    # Assuming the car starts facing the center of the circle,\n",
    "    # Rotate the car to face the four directions and assign the angle\n",
    "    for j, rot_angle in enumerate([0, np.pi/2, -np.pi/2, np.pi]):\n",
    "        pt_to_center = center - circle_points[:,i]\n",
    "        angle = np.arctan2(pt_to_center[1], pt_to_center[0]) + rot_angle\n",
    "        car_starting_states[4*i+j, 2] = angle\n",
    "    \n",
    "# Plot the starting states arrows\n",
    "for i in range(4*num_points):\n",
    "    angle = car_starting_states[i, 2]\n",
    "    x = car_starting_states[i, 0]\n",
    "    y = car_starting_states[i, 1]\n",
    "    dx = 5 * np.cos(angle)\n",
    "    dy = 5 * np.sin(angle)\n",
    "    plt.arrow(x, y, dx, dy, head_width=2, head_length=2, fc='k', ec='k')\n",
    "\n",
    "plt.legend()"
   ]
  },
  {
   "cell_type": "code",
   "execution_count": 5,
   "metadata": {},
   "outputs": [],
   "source": [
    "# Get the OOI starting state and covariance starting state\n",
    "default_state = tmc.get_state()\n",
    "mean_init = default_state[1]\n",
    "cov_init = default_state[2]\n",
    "\n",
    "# print(\"Starting state mean: \", mean_init)\n",
    "# print(\"Starting state covariance: \", cov_init)"
   ]
  },
  {
   "cell_type": "code",
   "execution_count": 10,
   "metadata": {},
   "outputs": [],
   "source": [
    "# Now that we have a list of starting states we can use them to calculate cost based on parameters\n",
    "def get_mcts_cost(starting_car_state, exploration_factor=0., num_iterations=400,\n",
    "                  eval_dist_scale=0., eval_bearing_scale=0.,\n",
    "                  eval_ocl_dist_scale=0., eval_ocl_turn_scale=0.,\n",
    "                  evaluation_multiplier=0.):\n",
    "    \n",
    "    # Load the parameters into the TMC object\n",
    "    tmc.eval_dist_scale = eval_dist_scale\n",
    "    tmc.eval_bearing_scale = eval_bearing_scale\n",
    "    tmc.eval_ocl_dist_scale = eval_ocl_dist_scale\n",
    "    tmc.eval_ocl_turn_scale = eval_ocl_turn_scale\n",
    "    tmc.evaluation_multiplier = evaluation_multiplier\n",
    "    \n",
    "    # Format into a tuple as expected by MCTS\n",
    "    starting_state = (starting_car_state, mean_init, cov_init, 0)\n",
    "    \n",
    "    # Create an MCTS object\n",
    "    mcts = MCTS(initial_obs=starting_state, env=tmc, K=exploration_factor,\n",
    "                            _hash_action=hash_action, _hash_state=hash_state,\n",
    "                            expansion_branch_factor=tmc.expansion_branch_factor)\n",
    "    \n",
    "    # Run learning iterations to create tree\n",
    "    mcts.learn(num_iterations)\n",
    "    \n",
    "    # Pick the best action and return the average reward\n",
    "    best_action = mcts.best_action()\n",
    "    best_node = mcts.root.children[best_action]\n",
    "    \n",
    "    return best_node.cumulative_reward / best_node.visits"
   ]
  },
  {
   "cell_type": "code",
   "execution_count": 17,
   "metadata": {},
   "outputs": [
    {
     "name": "stdout",
     "output_type": "stream",
     "text": [
      "Exploration factor:  [0.001]\n",
      "Total cost:  14.174557375780221\n",
      "Exploration factor:  [0.00105]\n",
      "Total cost:  14.160942104300426\n",
      "Exploration factor:  [0.0011]\n",
      "Total cost:  14.195667037422474\n",
      "Exploration factor:  [0.001025]\n",
      "Total cost:  14.174557375780221\n",
      "Exploration factor:  [0.001025]\n",
      "Total cost:  14.174557375780221\n",
      "Exploration factor:  [0.001075]\n",
      "Total cost:  14.195667037422474\n",
      "Exploration factor:  [0.0010375]\n",
      "Total cost:  14.174557375780221\n",
      "Exploration factor:  [0.0010375]\n",
      "Total cost:  14.174557375780221\n",
      "Exploration factor:  [0.0010625]\n",
      "Total cost:  14.160942104300426\n",
      "Exploration factor:  [0.00105625]\n",
      "Total cost:  14.160942104300426\n",
      "       message: Optimization terminated successfully.\n",
      "       success: True\n",
      "        status: 0\n",
      "           fun: 14.160942104300426\n",
      "             x: [ 1.050e-03]\n",
      "           nit: 4\n",
      "          nfev: 10\n",
      " final_simplex: (array([[ 1.050e-03],\n",
      "                       [ 1.056e-03]]), array([ 1.416e+01,  1.416e+01]))\n",
      "Best exploration factor:  [0.00105]\n"
     ]
    }
   ],
   "source": [
    "# Now we can calculate the cost for all starting states\n",
    "def explore_total_cost(exploration_factor=0.001):\n",
    "    print(\"Exploration factor: \", exploration_factor)\n",
    "    sums = [get_mcts_cost(starting_state, exploration_factor) for starting_state in car_starting_states]\n",
    "    \n",
    "    # Get total cost by negating the sum of the rewards\n",
    "    total_cost = -np.sum(sums)\n",
    "    print(\"Total cost: \", total_cost)\n",
    "    \n",
    "    return total_cost\n",
    "\n",
    "result = minimize(explore_total_cost, 0.001, method='Nelder-Mead', bounds=[(0., 100)])\n",
    "print(result)\n",
    "print(\"Best exploration factor: \", result.x)"
   ]
  },
  {
   "cell_type": "code",
   "execution_count": 7,
   "metadata": {},
   "outputs": [
    {
     "name": "stdout",
     "output_type": "stream",
     "text": [
      "Exploration factor:  0\n",
      "Total cost:  12.38163112361997\n"
     ]
    },
    {
     "data": {
      "text/plain": [
       "12.38163112361997"
      ]
     },
     "execution_count": 7,
     "metadata": {},
     "output_type": "execute_result"
    }
   ],
   "source": [
    "explore_total_cost(0)"
   ]
  },
  {
   "cell_type": "code",
   "execution_count": 15,
   "metadata": {},
   "outputs": [
    {
     "name": "stdout",
     "output_type": "stream",
     "text": [
      "Evaluation multiplier:  [0.1]\n",
      "Total cost:  14.174557375780221\n",
      "Evaluation multiplier:  [0.105]\n",
      "Total cost:  14.174557375780221\n",
      "Evaluation multiplier:  [0.095]\n",
      "Total cost:  14.174557375780221\n",
      "Evaluation multiplier:  [0.1025]\n",
      "Total cost:  14.174557375780221\n",
      "Evaluation multiplier:  [0.1025]\n",
      "Total cost:  14.174557375780221\n",
      "Evaluation multiplier:  [0.0975]\n",
      "Total cost:  14.174557375780221\n",
      "Evaluation multiplier:  [0.10125]\n",
      "Total cost:  14.174557375780221\n",
      "Evaluation multiplier:  [0.10125]\n",
      "Total cost:  14.174557375780221\n",
      "Evaluation multiplier:  [0.09875]\n",
      "Total cost:  14.174557375780221\n",
      "Evaluation multiplier:  [0.100625]\n",
      "Total cost:  14.174557375780221\n",
      "Evaluation multiplier:  [0.100625]\n",
      "Total cost:  14.174557375780221\n",
      "Evaluation multiplier:  [0.099375]\n",
      "Total cost:  14.174557375780221\n",
      "Evaluation multiplier:  [0.1003125]\n",
      "Total cost:  14.174557375780221\n",
      "Evaluation multiplier:  [0.1003125]\n",
      "Total cost:  14.174557375780221\n",
      "Evaluation multiplier:  [0.0996875]\n",
      "Total cost:  14.174557375780221\n",
      "Evaluation multiplier:  [0.10015625]\n",
      "Total cost:  14.174557375780221\n",
      "Evaluation multiplier:  [0.10015625]\n",
      "Total cost:  14.174557375780221\n",
      "Evaluation multiplier:  [0.09984375]\n",
      "Total cost:  14.174557375780221\n",
      "Evaluation multiplier:  [0.10007813]\n",
      "Total cost:  14.174557375780221\n",
      "Evaluation multiplier:  [0.10007813]\n",
      "Total cost:  14.174557375780221\n",
      "       message: Optimization terminated successfully.\n",
      "       success: True\n",
      "        status: 0\n",
      "           fun: 14.174557375780221\n",
      "             x: [ 1.000e-01]\n",
      "           nit: 7\n",
      "          nfev: 20\n",
      " final_simplex: (array([[ 1.000e-01],\n",
      "                       [ 1.001e-01]]), array([ 1.417e+01,  1.417e+01]))\n",
      "Best evaluation multiplier:  [0.1]\n"
     ]
    }
   ],
   "source": [
    "def eval_total_cost(evaluation_multiplier):\n",
    "    print(\"Evaluation multiplier: \", evaluation_multiplier)\n",
    "    sums = [get_mcts_cost(starting_state, 0.001, evaluation_multiplier=evaluation_multiplier) for starting_state in car_starting_states]\n",
    "    \n",
    "    total_cost = -np.sum(sums)\n",
    "    print(\"Total cost: \", total_cost)\n",
    "    return total_cost\n",
    "\n",
    "result = minimize(eval_total_cost, 0.1, method='Nelder-Mead', bounds=[(0., 1.)])\n",
    "\n",
    "print(result)\n",
    "print(\"Best evaluation multiplier: \", result.x)"
   ]
  },
  {
   "cell_type": "code",
   "execution_count": 16,
   "metadata": {},
   "outputs": [
    {
     "name": "stdout",
     "output_type": "stream",
     "text": [
      "Evaluation multiplier:  0\n",
      "Total cost:  14.174557375780221\n"
     ]
    },
    {
     "data": {
      "text/plain": [
       "14.174557375780221"
      ]
     },
     "execution_count": 16,
     "metadata": {},
     "output_type": "execute_result"
    }
   ],
   "source": [
    "eval_total_cost(0)"
   ]
  }
 ],
 "metadata": {
  "kernelspec": {
   "display_name": "Python 3",
   "language": "python",
   "name": "python3"
  },
  "language_info": {
   "codemirror_mode": {
    "name": "ipython",
    "version": 3
   },
   "file_extension": ".py",
   "mimetype": "text/x-python",
   "name": "python",
   "nbconvert_exporter": "python",
   "pygments_lexer": "ipython3",
   "version": "3.12.3"
  }
 },
 "nbformat": 4,
 "nbformat_minor": 2
}
