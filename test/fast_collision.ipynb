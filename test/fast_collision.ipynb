{
 "cells": [
  {
   "cell_type": "code",
   "execution_count": 33,
   "metadata": {},
   "outputs": [
    {
     "name": "stdout",
     "output_type": "stream",
     "text": [
      "Elapsed time: 0.000488600000153383\n"
     ]
    },
    {
     "data": {
      "image/png": "[encoded data removed]",
      "text/plain": [
       "<Figure size 640x480 with 1 Axes>"
      ]
     },
     "metadata": {},
     "output_type": "display_data"
    }
   ],
   "source": [
    "import numpy as np\n",
    "import matplotlib.pyplot as plt\n",
    "import timeit\n",
    "\n",
    "# Define a function to check visibility of corners\n",
    "def get_visible_corners(observer, corners):\n",
    "    # Get vectors from observer to corners\n",
    "    cv = corners - observer\n",
    "    \n",
    "    # Sort the corners by length of observer to corner vector\n",
    "    cv_lengths = np.linalg.norm(cv, axis=1)\n",
    "    sorted_indices = np.argsort(cv_lengths)\n",
    "    \n",
    "    # Find index of smallest observer to corner vector (closest corner)\n",
    "    min_idx = np.argmin(np.linalg.norm(cv, axis=1))\n",
    "    vmin = cv[min_idx] # Index of closest corner\n",
    "    vmin_replicated = np.tile(vmin, (2, 1)) # Tile down once to compute cross product\n",
    "    vmin_to_neighbors = cv[[(min_idx - 1) % len(corners), (min_idx + 1) % len(corners)], :] - cv[min_idx] # Vectors from closest corner to previous and next corners\n",
    "    \n",
    "    # Take the cross product between the obs to mean and mean to neighbors vectors\n",
    "    crosses = np.cross(vmin_replicated, vmin_to_neighbors)\n",
    "    \n",
    "    # If cross products are opposite signs, the observer has view of the three closest corners\n",
    "    if np.any(crosses > 0) and np.any(crosses < 0):\n",
    "        return vmin, *vmin_to_neighbors, corners[sorted_indices[:3]]\n",
    "    \n",
    "    # Otherwise, the observer has view of the closest corner and one of the neighbors\n",
    "    else:\n",
    "        # The mean is the first observable corner\n",
    "        # The visible neighbor of the mean is the one that is less aligned with the obs to mean vector\n",
    "        # This can be computed by taking the smaller dot product between the obs to mean vector and the obs to neighbor vectors\n",
    "        \n",
    "        # Normalize to unit vectors\n",
    "        unit_vmin = vmin / np.linalg.norm(vmin)\n",
    "        unit_vmin_to_neighbors = vmin_to_neighbors / np.linalg.norm(vmin_to_neighbors, axis=1)[:, np.newaxis]\n",
    "        \n",
    "        # Find the smallest dot product\n",
    "        dot_products = unit_vmin_to_neighbors @ unit_vmin # Dot product between obs to mean and obs to neighbors\n",
    "        smallest_dot_idx = np.argmin(dot_products) # Index of smallest dot product\n",
    "        observable_corners = np.vstack((corners[min_idx], # Closest corner\n",
    "                                       corners[min_idx] + vmin_to_neighbors[smallest_dot_idx])) # Closest corner and the observable neighbor\n",
    "        \n",
    "        return vmin, *vmin_to_neighbors, observable_corners\n",
    "\n",
    "\n",
    "# Define the corners of the rectangle\n",
    "corners = np.array([[1, 1], [5, 1], [5, 4], [1, 4]])\n",
    "\n",
    "# Define an observer position\n",
    "observer = np.array([5.5, 2.6])\n",
    "\n",
    "# Get visible corners\n",
    "start_time = timeit.default_timer()\n",
    "vmin, v1, v2, observable_corners= get_visible_corners(observer, corners)\n",
    "print('Elapsed time:', timeit.default_timer() - start_time)\n",
    "# Plot the rectangle and observer position\n",
    "rectangle = plt.Polygon(corners, fill=None, edgecolor='r')\n",
    "plt.gca().add_patch(rectangle)\n",
    "\n",
    "# Plot the corners\n",
    "for corner in corners:\n",
    "    plt.scatter(*corner, color='blue')\n",
    "    plt.text(corner[0] + 0.1, corner[1] + 0.1, f'{corner}', fontsize=12)\n",
    "\n",
    "# Plot the observer position\n",
    "plt.scatter(*observer, color='green')\n",
    "plt.text(observer[0] + 0.1, observer[1] + 0.1, 'Observer', fontsize=12)\n",
    "\n",
    "# Plot the vectors from their corresponding locations\n",
    "plt.arrow(*observer, *vmin)\n",
    "plt.arrow(*(observer+vmin), *v1)\n",
    "plt.arrow(*(observer+vmin), *v2)\n",
    "\n",
    "# Highlight visible corners\n",
    "for corner in observable_corners:\n",
    "    plt.scatter(*corner, color='yellow')\n",
    "\n",
    "plt.xlim(0, 6)\n",
    "plt.ylim(0, 6)\n",
    "plt.gca().set_aspect('equal', adjustable='box')\n",
    "plt.show()\n"
   ]
  },
  {
   "cell_type": "markdown",
   "metadata": {},
   "source": [
    "0.0016838000010466203 on previous shapely method\n",
    "\n",
    "0.0002701999983401038 new method"
   ]
  },
  {
   "cell_type": "code",
   "execution_count": 35,
   "metadata": {},
   "outputs": [
    {
     "name": "stdout",
     "output_type": "stream",
     "text": [
      "Speedup: 3.45x\n"
     ]
    },
    {
     "ename": "",
     "evalue": "",
     "output_type": "error",
     "traceback": [
      "\u001b[1;31mThe Kernel crashed while executing code in the current cell or a previous cell. \n",
      "\u001b[1;31mPlease review the code in the cell(s) to identify a possible cause of the failure. \n",
      "\u001b[1;31mClick <a href='https://aka.ms/vscodeJupyterKernelCrash'>here</a> for more info. \n",
      "\u001b[1;31mView Jupyter <a href='command:jupyter.viewOutput'>log</a> for further details."
     ]
    }
   ],
   "source": [
    "old_time = 0.0016838000010466203 # on previous shapely method\n",
    "\n",
    "new_time = 0.000488600000153383 # new method\n",
    "\n",
    "print(f\"Speedup: {old_time/new_time:.2f}x\")"
   ]
  }
 ],
 "metadata": {
  "kernelspec": {
   "display_name": "Python 3",
   "language": "python",
   "name": "python3"
  },
  "language_info": {
   "codemirror_mode": {
    "name": "ipython",
    "version": 3
   },
   "file_extension": ".py",
   "mimetype": "text/x-python",
   "name": "python",
   "nbconvert_exporter": "python",
   "pygments_lexer": "ipython3",
   "version": "3.12.3"
  }
 },
 "nbformat": 4,
 "nbformat_minor": 2
}
