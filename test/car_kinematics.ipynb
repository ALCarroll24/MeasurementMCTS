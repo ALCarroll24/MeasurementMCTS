{
 "cells": [
  {
   "cell_type": "code",
   "execution_count": 6,
   "metadata": {},
   "outputs": [],
   "source": [
    "import numpy as np\n",
    "import matplotlib.pyplot as plt\n",
    "import ipywidgets as widgets\n",
    "import matplotlib.patches as patches\n",
    "from ipywidgets import interact, interact_manual\n",
    "from copy import deepcopy\n",
    "import pickle as pkl\n",
    "from matplotlib.animation import FuncAnimation\n",
    "from IPython.display import display, HTML\n",
    "import sys\n",
    "\n",
    "# MCTS code imports\n",
    "sys.path.append(\"..\")  # Adds higher directory to python modules path.\n",
    "from car import Car"
   ]
  },
  {
   "cell_type": "code",
   "execution_count": 25,
   "metadata": {},
   "outputs": [
    {
     "data": {
      "application/vnd.jupyter.widget-view+json": {
       "model_id": "a778f4bac800412faa0eb8517349d003",
       "version_major": 2,
       "version_minor": 0
      },
      "text/plain": [
       "interactive(children=(FloatSlider(value=0.0, description='Steering', max=0.5, min=-0.5, step=0.01), FloatSlide…"
      ]
     },
     "metadata": {},
     "output_type": "display_data"
    },
    {
     "data": {
      "text/plain": [
       "<function __main__.plot_path(steering, acceleration, dt)>"
      ]
     },
     "execution_count": 25,
     "metadata": {},
     "output_type": "execute_result"
    }
   ],
   "source": [
    "# Lets use the car to drive around a plot and create some paths\n",
    "steering_slider = widgets.FloatSlider(value=0, min=-0.5, max=0.5, step=0.01, description='Steering')\n",
    "acceleration_slider = widgets.FloatSlider(value=0.5, min=-1, max=1, step=0.01, description='Acceleration')\n",
    "\n",
    "# [X, Y, v_x, yaw, steering angle, steering velocity]\n",
    "initial_state = np.array([0, 0, 0, 0, 0, 0])\n",
    "global path \n",
    "path = np.array([initial_state])\n",
    "car1 = Car(None, initial_state)\n",
    "dt = 0.5\n",
    "\n",
    "def plot_path(steering, acceleration, dt):\n",
    "    global path\n",
    "    fig, ax = plt.subplots()\n",
    "    state = car1.car_model(np.array([acceleration, steering]), path[-1,:], dt)\n",
    "    path = np.vstack((path, state))\n",
    "    \n",
    "    # Plot the car rectangle with the collision polygon\n",
    "    car_poly = car1.get_collision_polygon()\n",
    "    ax.add_patch(patches.Polygon(np.array(car_poly.exterior.coords), closed=True, fill=None, edgecolor='r'))\n",
    "    \n",
    "    ax.plot(path[:,0], path[:,1])\n",
    "    ax.axis('equal')\n",
    "    \n",
    "    ax.set_xlim(-10, 10)\n",
    "    ax.set_ylim(-10, 10)\n",
    "    plt.show()\n",
    "    \n",
    "interact_manual(plot_path, steering=steering_slider, acceleration=acceleration_slider, dt=widgets.fixed(dt))"
   ]
  }
 ],
 "metadata": {
  "kernelspec": {
   "display_name": "Python 3",
   "language": "python",
   "name": "python3"
  },
  "language_info": {
   "codemirror_mode": {
    "name": "ipython",
    "version": 3
   },
   "file_extension": ".py",
   "mimetype": "text/x-python",
   "name": "python",
   "nbconvert_exporter": "python",
   "pygments_lexer": "ipython3",
   "version": "3.12.3"
  }
 },
 "nbformat": 4,
 "nbformat_minor": 2
}
