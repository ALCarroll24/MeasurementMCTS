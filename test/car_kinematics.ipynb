{
 "cells": [
  {
   "cell_type": "code",
   "execution_count": 1,
   "metadata": {},
   "outputs": [],
   "source": [
    "import numpy as np\n",
    "import matplotlib.pyplot as plt\n",
    "import ipywidgets as widgets\n",
    "import matplotlib.patches as patches\n",
    "from ipywidgets import interact, interact_manual\n",
    "from copy import deepcopy\n",
    "import pickle as pkl\n",
    "from matplotlib.animation import FuncAnimation\n",
    "from IPython.display import display, HTML\n",
    "import sys\n",
    "# Add measurement mcts python package to path\n",
    "sys.path.append('../src/measurement_mcts')\n",
    "from measurement_mcts.environment.car import Car"
   ]
  },
  {
   "cell_type": "code",
   "execution_count": 4,
   "metadata": {},
   "outputs": [
    {
     "name": "stdout",
     "output_type": "stream",
     "text": [
      "Max acceleration:  2.9873580719143513\n",
      "Min acceleration:  -7.848000000000001\n",
      "Max steering angle:  33.294797687861276\n",
      "Max steering alpha:  41.61849710982659\n"
     ]
    },
    {
     "data": {
      "application/vnd.jupyter.widget-view+json": {
       "model_id": "976d33bc0c60432aa362e90a09281116",
       "version_major": 2,
       "version_minor": 0
      },
      "text/plain": [
       "interactive(children=(FloatSlider(value=0.1, description='Steering', max=0.5, min=-0.5, step=0.01), FloatSlide…"
      ]
     },
     "metadata": {},
     "output_type": "display_data"
    },
    {
     "data": {
      "text/plain": [
       "<function __main__.plot_path(steering, acceleration, dt)>"
      ]
     },
     "execution_count": 4,
     "metadata": {},
     "output_type": "execute_result"
    }
   ],
   "source": [
    "# Lets use the car to drive around a plot and create some paths\n",
    "steering_slider = widgets.FloatSlider(value=0.1, min=-0.5, max=0.5, step=0.01, description='Steering')\n",
    "acceleration_slider = widgets.FloatSlider(value=0.1, min=-1, max=1, step=0.01, description='Acceleration')\n",
    "\n",
    "# [X, Y, v_x, yaw, steering angle, steering velocity]\n",
    "initial_state = np.array([0, 0, 0, 0, 0, 0])\n",
    "global path \n",
    "path = np.array([initial_state])\n",
    "car1 = Car(None, initial_state)\n",
    "dt = 0.5\n",
    "\n",
    "def plot_path(steering, acceleration, dt):\n",
    "    global path\n",
    "    fig, ax = plt.subplots()\n",
    "    print(\"Steering: \", steering, \"Acceleration: \", acceleration)\n",
    "    car1.update(dt, np.array([acceleration, steering]))\n",
    "    path = np.vstack((path, car1.get_state()))\n",
    "    print(\"state\", car1.get_state())\n",
    "    \n",
    "    # Plot the car rectangle with the collision polygon\n",
    "    car_poly = car1.get_collision_polygon()\n",
    "    ax.add_patch(patches.Polygon(np.array(car_poly.exterior.coords), closed=True, fill=None, edgecolor='r'))\n",
    "    \n",
    "    ax.plot(path[:,0], path[:,1])\n",
    "    ax.axis('equal')\n",
    "    \n",
    "    ax.set_xlim(-10, 10)\n",
    "    ax.set_ylim(-10, 10)\n",
    "    plt.show()\n",
    "    \n",
    "interact_manual(plot_path, steering=steering_slider, acceleration=acceleration_slider, dt=widgets.fixed(dt))"
   ]
  }
 ],
 "metadata": {
  "kernelspec": {
   "display_name": "Python 3",
   "language": "python",
   "name": "python3"
  },
  "language_info": {
   "codemirror_mode": {
    "name": "ipython",
    "version": 3
   },
   "file_extension": ".py",
   "mimetype": "text/x-python",
   "name": "python",
   "nbconvert_exporter": "python",
   "pygments_lexer": "ipython3",
   "version": "3.10.12"
  }
 },
 "nbformat": 4,
 "nbformat_minor": 2
}
