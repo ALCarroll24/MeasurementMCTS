{
 "cells": [
  {
   "cell_type": "code",
   "execution_count": 2,
   "metadata": {},
   "outputs": [],
   "source": [
    "import numpy as np\n",
    "import matplotlib.pyplot as plt\n",
    "from scipy.spatial import KDTree"
   ]
  },
  {
   "cell_type": "code",
   "execution_count": 6,
   "metadata": {},
   "outputs": [],
   "source": [
    "def get_rectangle_points(mean, length=2, width=1):\n",
    "    return np.array([\n",
    "        [mean[0] - length/2, mean[1] - width/2],\n",
    "        [mean[0] + length/2, mean[1] - width/2],\n",
    "        [mean[0] + length/2, mean[1] + width/2],\n",
    "        [mean[0] - length/2, mean[1] + width/2]\n",
    "    ])\n",
    "    \n",
    "# Create two rectangles using mean\n",
    "rect1 = get_rectangle_points([-5, 2])\n",
    "rect2 = get_rectangle_points([3, -4])\n",
    "\n",
    "# Close them for plotting by adding the first point to the end\n",
    "rect1_closed = np.concatenate([rect1, [rect1[0]]])\n",
    "rect2_closed = np.concatenate([rect2, [rect2[0]]])\n",
    "\n",
    "# Create a car using mean\n",
    "car = np.array([0,-5])\n",
    "\n",
    "# Create a KDTree and insert points from the two rectangles\n",
    "points = np.concatenate([rect1, rect2])\n",
    "tree = KDTree(points)"
   ]
  },
  {
   "cell_type": "code",
   "execution_count": 7,
   "metadata": {},
   "outputs": [],
   "source": [
    "def get_nearest_points(tree, point, radius):\n",
    "    # Find the indeces of the tree points that are within the radius of the point\n",
    "    near_point_indeces = tree.query_ball_point(point, radius)\n",
    "    \n",
    "    # Return the points at those indeces\n",
    "    return tree.data[near_point_indeces]"
   ]
  },
  {
   "cell_type": "code",
   "execution_count": 9,
   "metadata": {},
   "outputs": [
    {
     "data": {
      "text/plain": [
       "<matplotlib.legend.Legend at 0x22dffe855e0>"
      ]
     },
     "execution_count": 9,
     "metadata": {},
     "output_type": "execute_result"
    },
    {
     "data": {
      "image/png": "[encoded data removed]",
      "text/plain": [
       "<Figure size 640x480 with 1 Axes>"
      ]
     },
     "metadata": {},
     "output_type": "display_data"
    }
   ],
   "source": [
    "# Query the KDTree to find the nearest point to the car\n",
    "nearest_points = get_nearest_points(tree, car, 5)\n",
    "# print(np.array(nearest_points))\n",
    "# Plot the points\n",
    "plt.plot(rect1_closed[:,0], rect1_closed[:,1], 'r', label='Rectangle 1')\n",
    "plt.plot(rect2_closed[:,0], rect2_closed[:,1], 'b', label='Rectangle 2')\n",
    "plt.plot(car[0], car[1], 'go', label='Car')\n",
    "plt.plot(nearest_points[:,0], nearest_points[:,1], 'yo', label='Nearest Points')\n",
    "plt.legend()"
   ]
  },
  {
   "cell_type": "code",
   "execution_count": 51,
   "metadata": {},
   "outputs": [
    {
     "name": "stdout",
     "output_type": "stream",
     "text": [
      "(array([2.06155281, 2.5       , 4.03112887, 4.27200187, 7.63216876,\n",
      "       8.5       , 8.84590301,        inf,        inf,        inf]), array([4, 7, 5, 6, 1, 2, 0, 8, 8, 8], dtype=int64))\n",
      "[[ 2.  -4.5]\n",
      " [ 2.  -3.5]\n",
      " [ 4.  -4.5]\n",
      " [ 4.  -3.5]\n",
      " [-4.   1.5]\n",
      " [-4.   2.5]\n",
      " [-6.   1.5]]\n"
     ]
    }
   ],
   "source": [
    "# near_point_indeces = tree.query_ball_point(car, 5)\n",
    "# points = tree.data[near_point_indeces]\n",
    "# print(points)\n",
    "\n",
    "# # tree.data\n",
    "tree_query = tree.query(car, k=10, distance_upper_bound=9)\n",
    "\n",
    "# Construct an array of rows (x,y, distance) for each point\n",
    "non_inf_len = np.shape(tree_query[0][tree_query[0] != np.inf])[0] # Length of non-inf points\n",
    "xy_points = tree.data[tree_query[1][:non_inf_len]]\n",
    "\n"
   ]
  }
 ],
 "metadata": {
  "kernelspec": {
   "display_name": "Python 3",
   "language": "python",
   "name": "python3"
  },
  "language_info": {
   "codemirror_mode": {
    "name": "ipython",
    "version": 3
   },
   "file_extension": ".py",
   "mimetype": "text/x-python",
   "name": "python",
   "nbconvert_exporter": "python",
   "pygments_lexer": "ipython3",
   "version": "3.12.3"
  }
 },
 "nbformat": 4,
 "nbformat_minor": 2
}
